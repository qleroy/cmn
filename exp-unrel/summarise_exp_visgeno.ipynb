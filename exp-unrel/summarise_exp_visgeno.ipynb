{
 "cells": [
  {
   "cell_type": "code",
   "execution_count": 1,
   "metadata": {
    "collapsed": true
   },
   "outputs": [],
   "source": [
    "# cd to root project"
   ]
  },
  {
   "cell_type": "code",
   "execution_count": 1,
   "metadata": {},
   "outputs": [
    {
     "name": "stdout",
     "output_type": "stream",
     "text": [
      "/Users/quentinleroy/mva/recvis/project/cmn\n"
     ]
    }
   ],
   "source": [
    "cd ~/mva/recvis/project/cmn/"
   ]
  },
  {
   "cell_type": "code",
   "execution_count": 2,
   "metadata": {
    "collapsed": true
   },
   "outputs": [],
   "source": [
    "from __future__ import absolute_import, division, print_function\n",
    "\n",
    "import sys\n",
    "import os; os.environ['CUDA_VISIBLE_DEVICES'] = ''  # using GPU 0\n",
    "\n",
    "import tensorflow as tf\n",
    "import numpy as np\n",
    "import skimage.io\n",
    "import skimage.transform\n",
    "\n",
    "from models import visgeno_attention_model, spatial_feat, fastrcnn_vgg_net\n",
    "from util.visgeno_rel_train.rel_data_reader import DataReader\n",
    "from util import loss, eval_tools, text_processing"
   ]
  },
  {
   "cell_type": "code",
   "execution_count": 3,
   "metadata": {
    "collapsed": true
   },
   "outputs": [],
   "source": [
    "################################################################################\n",
    "# Parameters\n",
    "################################################################################\n",
    "\n",
    "# Model Params\n",
    "T = 20 # same number of words for each ref expr ?\n",
    "num_vocab = 72704\n",
    "embed_dim = 300\n",
    "lstm_dim = 1000\n",
    "\n",
    "# Data Params\n",
    "# imdb_file = './exp-visgeno-rel/data/imdb/imdb_val.npy'\n",
    "imdb_file = './exp-unrel/unrel_imdb.npy'\n",
    "vocab_file = './word_embedding/vocabulary_72700.txt'\n",
    "im_mean = visgeno_attention_model.fastrcnn_vgg_net.channel_mean\n",
    "\n",
    "# Snapshot Params\n",
    "model_file = './downloaded_models/visgeno_attbilstm_strong_iter_360000.tfmodel'\n",
    "\n",
    "visualize_dir = './exp-visgeno-rel/results/unrel_attbilstm_strong_iter_360000.val/'"
   ]
  },
  {
   "cell_type": "code",
   "execution_count": 4,
   "metadata": {
    "collapsed": true
   },
   "outputs": [],
   "source": [
    "################################################################################\n",
    "# Network\n",
    "################################################################################\n",
    "\n",
    "im_batch = tf.placeholder(tf.float32, [1, None, None, 3], name='im_batch')\n",
    "bbox_batch = tf.placeholder(tf.float32, [None, 5], name='bbox_batch')\n",
    "spatial_batch = tf.placeholder(tf.float32, [None, 5], name='spatial_batch')\n",
    "text_seq_batch = tf.placeholder(tf.int32, [T, None], name='text_seq_batch')"
   ]
  },
  {
   "cell_type": "code",
   "execution_count": 5,
   "metadata": {
    "collapsed": true
   },
   "outputs": [],
   "source": [
    "scores = visgeno_attention_model.visgeno_attbilstm_net(im_batch, bbox_batch, spatial_batch,\n",
    "    text_seq_batch, num_vocab, embed_dim, lstm_dim, False, False)"
   ]
  },
  {
   "cell_type": "code",
   "execution_count": 6,
   "metadata": {},
   "outputs": [
    {
     "name": "stdout",
     "output_type": "stream",
     "text": [
      "WARNING:tensorflow:Error encountered when serializing attention_probs.\n",
      "Type is unsupported, or the types of the items don't match field type in CollectionDef.\n",
      "'tuple' object has no attribute 'name'\n"
     ]
    }
   ],
   "source": [
    "with tf.Session() as sess:\n",
    "    writer = tf.summary.FileWriter('/Users/quentinleroy/mva/recvis/project/summaries/', sess.graph)"
   ]
  }
 ],
 "metadata": {
  "hide_input": false,
  "kernelspec": {
   "display_name": "Python 3",
   "language": "python",
   "name": "python3"
  },
  "language_info": {
   "codemirror_mode": {
    "name": "ipython",
    "version": 3
   },
   "file_extension": ".py",
   "mimetype": "text/x-python",
   "name": "python",
   "nbconvert_exporter": "python",
   "pygments_lexer": "ipython3",
   "version": "3.6.0"
  },
  "toc": {
   "colors": {
    "hover_highlight": "#DAA520",
    "navigate_num": "#000000",
    "navigate_text": "#333333",
    "running_highlight": "#FF0000",
    "selected_highlight": "#FFD700",
    "sidebar_border": "#EEEEEE",
    "wrapper_background": "#FFFFFF"
   },
   "moveMenuLeft": true,
   "nav_menu": {
    "height": "12px",
    "width": "252px"
   },
   "navigate_menu": true,
   "number_sections": true,
   "sideBar": true,
   "threshold": 4,
   "toc_cell": false,
   "toc_section_display": "block",
   "toc_window_display": false,
   "widenNotebook": false
  }
 },
 "nbformat": 4,
 "nbformat_minor": 2
}
