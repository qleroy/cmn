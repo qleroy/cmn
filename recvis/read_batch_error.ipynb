{
 "cells": [
  {
   "cell_type": "markdown",
   "metadata": {},
   "source": [
    "This notebook shows why reader.read_batch() has not the proper behavior when a batch does not contain any relationships (or any objects)"
   ]
  },
  {
   "cell_type": "code",
   "execution_count": 1,
   "metadata": {
    "collapsed": true
   },
   "outputs": [],
   "source": [
    "# cd to root project"
   ]
  },
  {
   "cell_type": "code",
   "execution_count": 2,
   "metadata": {
    "scrolled": true
   },
   "outputs": [
    {
     "name": "stdout",
     "output_type": "stream",
     "text": [
      "/Users/quentinleroy/mva/recvis/project/cmn\n"
     ]
    }
   ],
   "source": [
    "cd ~/mva/recvis/project/cmn/"
   ]
  },
  {
   "cell_type": "code",
   "execution_count": 3,
   "metadata": {},
   "outputs": [
    {
     "name": "stdout",
     "output_type": "stream",
     "text": [
      "load imdb_trn\n",
      "load imdb_tst\n",
      "load imdb_val\n",
      "load imdb_unrel\n",
      "load imdb_tst_unrel\n"
     ]
    }
   ],
   "source": [
    "import numpy as np\n",
    "%matplotlib inline\n",
    "\n",
    "import time\n",
    "\n",
    "from importlib import reload\n",
    "from recvis.cmn import imdb_tst\n",
    "from recvis.cmn import Model, Input\n",
    "\n",
    "\n",
    "from models import visgeno_attention_model, spatial_feat, fastrcnn_vgg_net\n",
    "from util.visgeno_rel_train.rel_data_reader import DataReader\n",
    "\n",
    "from time import sleep"
   ]
  },
  {
   "cell_type": "code",
   "execution_count": 4,
   "metadata": {
    "collapsed": true
   },
   "outputs": [],
   "source": [
    "imdb_tmp = imdb_tst[:10]\n",
    "\n",
    "imdb_tmp[0]['mapped_rels'] = [] # remove the relationships of one image\n",
    "\n",
    "np.save('imdb_tmp', imdb_tmp) # save in temporary file"
   ]
  },
  {
   "cell_type": "code",
   "execution_count": 5,
   "metadata": {},
   "outputs": [
    {
     "name": "stdout",
     "output_type": "stream",
     "text": [
      "Loading ROI data from file...Done.\n",
      "data reader: skipped an image. no relationship annotations for image ./exp-visgeno-rel/visgeno-dataset/VG_100K_2/63.jpg image_id 63\n"
     ]
    }
   ],
   "source": [
    "# imdb_file = 'exp-visgeno-rel/data/imdb/imdb_tst.npy'\n",
    "imdb_file = 'imdb_tmp.npy'\n",
    "vocab_file = './word_embedding/vocabulary_72700.txt'\n",
    "im_mean = visgeno_attention_model.fastrcnn_vgg_net.channel_mean\n",
    "reader = DataReader(imdb_file, vocab_file, im_mean, shuffle=False, max_bbox_num=10000, max_rel_num=10000)"
   ]
  },
  {
   "cell_type": "code",
   "execution_count": 7,
   "metadata": {},
   "outputs": [
    {
     "name": "stdout",
     "output_type": "stream",
     "text": [
      "data reader: epoch = 1, batch = 1 / 10\n",
      "batch is None\n",
      "data reader: epoch = 1, batch = 2 / 10\n",
      "68\n",
      "data reader: skipped an image. no relationship annotations for image ./exp-visgeno-rel/visgeno-dataset/VG_100K_2/63.jpg image_id 63\n",
      "data reader: epoch = 1, batch = 3 / 10\n",
      "107\n",
      "data reader: epoch = 1, batch = 4 / 10\n",
      "138\n",
      "data reader: epoch = 1, batch = 5 / 10\n",
      "187\n",
      "data reader: epoch = 1, batch = 6 / 10\n",
      "201\n",
      "data reader: epoch = 1, batch = 7 / 10\n",
      "237\n",
      "data reader: epoch = 1, batch = 8 / 10\n",
      "248\n",
      "data reader: epoch = 1, batch = 9 / 10\n",
      "258\n",
      "data reader: epoch = 1, batch = 10 / 10\n",
      "331\n"
     ]
    }
   ],
   "source": [
    "# correct behavior\n",
    "# run_prefetch in util/visgeno_rel_train/rel_data_reader.py adds None to the queue if the batch has empty relationships\n",
    "\n",
    "image_id_read = [] # ids read\n",
    "for i in range(reader.num_batch):\n",
    "    batch = reader.read_batch()\n",
    "    if batch is None:\n",
    "        print('batch is None')\n",
    "        i = i+1 # skip this batch and move to the next\n",
    "    else:\n",
    "        print(batch['image_id'])\n",
    "    sleep(1)"
   ]
  },
  {
   "cell_type": "code",
   "execution_count": null,
   "metadata": {
    "collapsed": true
   },
   "outputs": [],
   "source": []
  },
  {
   "cell_type": "code",
   "execution_count": null,
   "metadata": {
    "collapsed": true
   },
   "outputs": [],
   "source": []
  },
  {
   "cell_type": "code",
   "execution_count": null,
   "metadata": {
    "collapsed": true
   },
   "outputs": [],
   "source": []
  },
  {
   "cell_type": "code",
   "execution_count": null,
   "metadata": {
    "collapsed": true
   },
   "outputs": [],
   "source": []
  },
  {
   "cell_type": "code",
   "execution_count": null,
   "metadata": {
    "collapsed": true
   },
   "outputs": [],
   "source": []
  },
  {
   "cell_type": "code",
   "execution_count": null,
   "metadata": {
    "collapsed": true
   },
   "outputs": [],
   "source": []
  },
  {
   "cell_type": "code",
   "execution_count": null,
   "metadata": {
    "collapsed": true
   },
   "outputs": [],
   "source": []
  },
  {
   "cell_type": "code",
   "execution_count": null,
   "metadata": {
    "collapsed": true
   },
   "outputs": [],
   "source": []
  },
  {
   "cell_type": "code",
   "execution_count": null,
   "metadata": {
    "collapsed": true
   },
   "outputs": [],
   "source": []
  },
  {
   "cell_type": "markdown",
   "metadata": {},
   "source": []
  }
 ],
 "metadata": {
  "hide_input": false,
  "kernelspec": {
   "display_name": "Python 3",
   "language": "python",
   "name": "python3"
  },
  "language_info": {
   "codemirror_mode": {
    "name": "ipython",
    "version": 3
   },
   "file_extension": ".py",
   "mimetype": "text/x-python",
   "name": "python",
   "nbconvert_exporter": "python",
   "pygments_lexer": "ipython3",
   "version": "3.6.0"
  },
  "toc": {
   "colors": {
    "hover_highlight": "#DAA520",
    "navigate_num": "#000000",
    "navigate_text": "#333333",
    "running_highlight": "#FF0000",
    "selected_highlight": "#FFD700",
    "sidebar_border": "#EEEEEE",
    "wrapper_background": "#FFFFFF"
   },
   "moveMenuLeft": true,
   "nav_menu": {
    "height": "12px",
    "width": "252px"
   },
   "navigate_menu": true,
   "number_sections": true,
   "sideBar": true,
   "threshold": 4,
   "toc_cell": false,
   "toc_section_display": "block",
   "toc_window_display": false,
   "widenNotebook": false
  }
 },
 "nbformat": 4,
 "nbformat_minor": 2
}
